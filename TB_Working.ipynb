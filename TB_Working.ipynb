{
  "nbformat": 4,
  "nbformat_minor": 0,
  "metadata": {
    "colab": {
      "name": "TB_Working.ipynb",
      "provenance": [],
      "collapsed_sections": [],
      "authorship_tag": "ABX9TyN6HyN4zyNZAhTTETINMWR6",
      "include_colab_link": true
    },
    "kernelspec": {
      "name": "python3",
      "display_name": "Python 3"
    }
  },
  "cells": [
    {
      "cell_type": "markdown",
      "metadata": {
        "id": "view-in-github",
        "colab_type": "text"
      },
      "source": [
        "<a href=\"https://colab.research.google.com/github/hectorhaffenden/PoA/blob/master/TB_Working.ipynb\" target=\"_parent\"><img src=\"https://colab.research.google.com/assets/colab-badge.svg\" alt=\"Open In Colab\"/></a>"
      ]
    },
    {
      "cell_type": "code",
      "metadata": {
        "id": "eW34w488nUC2",
        "colab_type": "code",
        "colab": {}
      },
      "source": [
        "import os\n",
        "import requests\n",
        "import io\n",
        "import re\n",
        "import pandas as pd\n",
        "import json\n",
        "import csv\n",
        "import numpy as np\n",
        "from bs4 import BeautifulSoup\n",
        "from requests import get\n",
        "from contextlib import closing\n",
        "from functools import wraps\n",
        "from requests.exceptions import RequestException\n",
        "from werkzeug.exceptions import default_exceptions, HTTPException, InternalServerError"
      ],
      "execution_count": 0,
      "outputs": []
    },
    {
      "cell_type": "code",
      "metadata": {
        "id": "oKJ3cKqIEg3D",
        "colab_type": "code",
        "colab": {}
      },
      "source": [
        "# Key links: Where we put the code and color into: https://www.tedbaker.com/uk/json/product/getProduct.json?productCode=230491-BLUE"
      ],
      "execution_count": 0,
      "outputs": []
    },
    {
      "cell_type": "code",
      "metadata": {
        "id": "83nJyL7GoCsF",
        "colab_type": "code",
        "colab": {}
      },
      "source": [
        "# Attempt 2"
      ],
      "execution_count": 0,
      "outputs": []
    },
    {
      "cell_type": "code",
      "metadata": {
        "id": "nUiZ7vd7oCvj",
        "colab_type": "code",
        "colab": {}
      },
      "source": [
        "def Color_Finder(page, prod_number):\n",
        "  \"\"\"\n",
        "  This function takes in the page from requests.get(url), and outputs all the colours, along side the code. \n",
        "  Note we need to input the page and number here as 1. we would of already got the page, so don't want to rescrape it.\n",
        "  2. The number helps us find the colors.\n",
        "  \"\"\"\n",
        "  # Making the page beautiful\n",
        "  soup = BeautifulSoup(page.text, 'html.parser')\n",
        "\n",
        "  # Finding all the hyperlinks in the page.\n",
        "  tot = []\n",
        "  for link in soup.find_all('a'):\n",
        "    tot.append(link.get('href'))\n",
        "  \n",
        "  # Isolate the links with the colors next to them\n",
        "  hold_col = []\n",
        "  error_check = tot[18]\n",
        "\n",
        "  for i in range(len(tot)):\n",
        "    strings = tot[i]\n",
        "    num = \"/p/\" + str(prod_number) + \"-\"\n",
        "    if strings != error_check:\n",
        "      if num in strings:\n",
        "        if \"www\" not in tot[i]:\n",
        "          hold_col.append(tot[i])\n",
        "  end_colors = []\n",
        "  for i in range(len(hold_col)):\n",
        "    splitted = hold_col[i].split(\"/\")\n",
        "    splitted_last = splitted[len(splitted)-1]\n",
        "    end_colors.append(splitted_last)\n",
        "  return end_colors"
      ],
      "execution_count": 0,
      "outputs": []
    },
    {
      "cell_type": "code",
      "metadata": {
        "id": "dUW6PbW2E3WC",
        "colab_type": "code",
        "colab": {}
      },
      "source": [
        ""
      ],
      "execution_count": 0,
      "outputs": []
    },
    {
      "cell_type": "code",
      "metadata": {
        "id": "RTozUIrDE3Yz",
        "colab_type": "code",
        "colab": {}
      },
      "source": [
        ""
      ],
      "execution_count": 0,
      "outputs": []
    },
    {
      "cell_type": "code",
      "metadata": {
        "id": "GvXi2_7wqnbZ",
        "colab_type": "code",
        "outputId": "fd06a7f3-1a84-46ba-c3ec-64fb4d50faf2",
        "colab": {
          "base_uri": "https://localhost:8080/",
          "height": 35
        }
      },
      "source": [
        "txt_lnk = \"https://www.tedbaker.com/uk/Womens/Clothing/Dresses/LEBIIEY-Animal-jacquard-skater-dress-Ivory/p/\"\n",
        "number = 241919\n",
        "url = txt_lnk + str(number)\n",
        "url"
      ],
      "execution_count": 74,
      "outputs": [
        {
          "output_type": "execute_result",
          "data": {
            "text/plain": [
              "'https://www.tedbaker.com/uk/Womens/Clothing/Dresses/LEBIIEY-Animal-jacquard-skater-dress-Ivory/p/241919'"
            ]
          },
          "metadata": {
            "tags": []
          },
          "execution_count": 74
        }
      ]
    },
    {
      "cell_type": "code",
      "metadata": {
        "id": "08dFeW8CqnVI",
        "colab_type": "code",
        "outputId": "50508067-ef30-43b8-f42f-08a9e6064978",
        "colab": {
          "base_uri": "https://localhost:8080/",
          "height": 35
        }
      },
      "source": [
        "page = requests.get(url)\n",
        "# page.status_code == 404\n",
        "\n",
        "\n",
        "Color_Finder(page, x)"
      ],
      "execution_count": 75,
      "outputs": [
        {
          "output_type": "execute_result",
          "data": {
            "text/plain": [
              "[]"
            ]
          },
          "metadata": {
            "tags": []
          },
          "execution_count": 75
        }
      ]
    },
    {
      "cell_type": "code",
      "metadata": {
        "id": "jwGedOiS0UJX",
        "colab_type": "code",
        "colab": {}
      },
      "source": [
        "num_to_test = 20 # Each side"
      ],
      "execution_count": 0,
      "outputs": []
    },
    {
      "cell_type": "code",
      "metadata": {
        "id": "EjbEFsDBscQy",
        "colab_type": "code",
        "outputId": "806b1860-d288-4f1d-cbe7-b41dd81bcfa4",
        "colab": {
          "base_uri": "https://localhost:8080/",
          "height": 372
        }
      },
      "source": [
        "def Full_Check(number_to_start_at = 1, number_to_test = 100):\n",
        "  color_list = []\n",
        "  for x in range(number_to_start_at, number_to_start_at+number_to_test):\n",
        "    if x % 10 == 0:\n",
        "      print(\"Checked up to:\", x)\n",
        "\n",
        "    url = txt_lnk + str(x)\n",
        "    page = requests.get(url)\n",
        "\n",
        "    # Check so we don't have to search an empty page.\n",
        "    if page.status_code == 404: \n",
        "      color_list.append(\"Dosen't exist:\" + str(x))\n",
        "    else:\n",
        "      color_list.append(Color_Finder(page, x))\n",
        "\n",
        "  return color_list \n",
        "one = Full_Check(100000, 200)"
      ],
      "execution_count": 80,
      "outputs": [
        {
          "output_type": "stream",
          "text": [
            "Checked up to: 100000\n",
            "Checked up to: 100010\n",
            "Checked up to: 100020\n",
            "Checked up to: 100030\n",
            "Checked up to: 100040\n",
            "Checked up to: 100050\n",
            "Checked up to: 100060\n",
            "Checked up to: 100070\n",
            "Checked up to: 100080\n",
            "Checked up to: 100090\n",
            "Checked up to: 100100\n",
            "Checked up to: 100110\n",
            "Checked up to: 100120\n",
            "Checked up to: 100130\n",
            "Checked up to: 100140\n",
            "Checked up to: 100150\n",
            "Checked up to: 100160\n",
            "Checked up to: 100170\n",
            "Checked up to: 100180\n",
            "Checked up to: 100190\n"
          ],
          "name": "stdout"
        }
      ]
    },
    {
      "cell_type": "code",
      "metadata": {
        "id": "BoiDp6yXscVw",
        "colab_type": "code",
        "outputId": "0d7ecf2e-421d-46f7-a436-7073da0529fe",
        "colab": {
          "base_uri": "https://localhost:8080/",
          "height": 1000
        }
      },
      "source": [
        "one"
      ],
      "execution_count": 82,
      "outputs": [
        {
          "output_type": "execute_result",
          "data": {
            "text/plain": [
              "[\"Dosen't exist:100000\",\n",
              " \"Dosen't exist:100001\",\n",
              " [],\n",
              " [],\n",
              " \"Dosen't exist:100004\",\n",
              " [],\n",
              " \"Dosen't exist:100006\",\n",
              " \"Dosen't exist:100007\",\n",
              " [],\n",
              " \"Dosen't exist:100009\",\n",
              " \"Dosen't exist:100010\",\n",
              " [],\n",
              " [],\n",
              " \"Dosen't exist:100013\",\n",
              " \"Dosen't exist:100014\",\n",
              " \"Dosen't exist:100015\",\n",
              " \"Dosen't exist:100016\",\n",
              " \"Dosen't exist:100017\",\n",
              " \"Dosen't exist:100018\",\n",
              " ['100019-97-CREAM'],\n",
              " [],\n",
              " \"Dosen't exist:100021\",\n",
              " [],\n",
              " [],\n",
              " [],\n",
              " \"Dosen't exist:100025\",\n",
              " \"Dosen't exist:100026\",\n",
              " \"Dosen't exist:100027\",\n",
              " \"Dosen't exist:100028\",\n",
              " \"Dosen't exist:100029\",\n",
              " \"Dosen't exist:100030\",\n",
              " \"Dosen't exist:100031\",\n",
              " [],\n",
              " [],\n",
              " [],\n",
              " ['100035-ZZ-CLEAR'],\n",
              " [],\n",
              " [],\n",
              " [],\n",
              " \"Dosen't exist:100039\",\n",
              " [],\n",
              " \"Dosen't exist:100041\",\n",
              " \"Dosen't exist:100042\",\n",
              " \"Dosen't exist:100043\",\n",
              " \"Dosen't exist:100044\",\n",
              " \"Dosen't exist:100045\",\n",
              " \"Dosen't exist:100046\",\n",
              " \"Dosen't exist:100047\",\n",
              " \"Dosen't exist:100048\",\n",
              " \"Dosen't exist:100049\",\n",
              " \"Dosen't exist:100050\",\n",
              " \"Dosen't exist:100051\",\n",
              " \"Dosen't exist:100052\",\n",
              " \"Dosen't exist:100053\",\n",
              " \"Dosen't exist:100054\",\n",
              " \"Dosen't exist:100055\",\n",
              " [],\n",
              " [],\n",
              " [],\n",
              " \"Dosen't exist:100059\",\n",
              " \"Dosen't exist:100060\",\n",
              " \"Dosen't exist:100061\",\n",
              " \"Dosen't exist:100062\",\n",
              " \"Dosen't exist:100063\",\n",
              " \"Dosen't exist:100064\",\n",
              " \"Dosen't exist:100065\",\n",
              " \"Dosen't exist:100066\",\n",
              " \"Dosen't exist:100067\",\n",
              " \"Dosen't exist:100068\",\n",
              " \"Dosen't exist:100069\",\n",
              " \"Dosen't exist:100070\",\n",
              " \"Dosen't exist:100071\",\n",
              " \"Dosen't exist:100072\",\n",
              " \"Dosen't exist:100073\",\n",
              " \"Dosen't exist:100074\",\n",
              " \"Dosen't exist:100075\",\n",
              " \"Dosen't exist:100076\",\n",
              " \"Dosen't exist:100077\",\n",
              " \"Dosen't exist:100078\",\n",
              " \"Dosen't exist:100079\",\n",
              " \"Dosen't exist:100080\",\n",
              " \"Dosen't exist:100081\",\n",
              " \"Dosen't exist:100082\",\n",
              " \"Dosen't exist:100083\",\n",
              " \"Dosen't exist:100084\",\n",
              " \"Dosen't exist:100085\",\n",
              " \"Dosen't exist:100086\",\n",
              " \"Dosen't exist:100087\",\n",
              " \"Dosen't exist:100088\",\n",
              " \"Dosen't exist:100089\",\n",
              " \"Dosen't exist:100090\",\n",
              " \"Dosen't exist:100091\",\n",
              " [],\n",
              " \"Dosen't exist:100093\",\n",
              " \"Dosen't exist:100094\",\n",
              " \"Dosen't exist:100095\",\n",
              " \"Dosen't exist:100096\",\n",
              " \"Dosen't exist:100097\",\n",
              " \"Dosen't exist:100098\",\n",
              " \"Dosen't exist:100099\",\n",
              " \"Dosen't exist:100100\",\n",
              " \"Dosen't exist:100101\",\n",
              " \"Dosen't exist:100102\",\n",
              " \"Dosen't exist:100103\",\n",
              " \"Dosen't exist:100104\",\n",
              " \"Dosen't exist:100105\",\n",
              " \"Dosen't exist:100106\",\n",
              " \"Dosen't exist:100107\",\n",
              " \"Dosen't exist:100108\",\n",
              " \"Dosen't exist:100109\",\n",
              " \"Dosen't exist:100110\",\n",
              " \"Dosen't exist:100111\",\n",
              " \"Dosen't exist:100112\",\n",
              " \"Dosen't exist:100113\",\n",
              " \"Dosen't exist:100114\",\n",
              " \"Dosen't exist:100115\",\n",
              " \"Dosen't exist:100116\",\n",
              " \"Dosen't exist:100117\",\n",
              " \"Dosen't exist:100118\",\n",
              " \"Dosen't exist:100119\",\n",
              " \"Dosen't exist:100120\",\n",
              " \"Dosen't exist:100121\",\n",
              " \"Dosen't exist:100122\",\n",
              " \"Dosen't exist:100123\",\n",
              " \"Dosen't exist:100124\",\n",
              " \"Dosen't exist:100125\",\n",
              " \"Dosen't exist:100126\",\n",
              " ['100127-00-BLACK'],\n",
              " \"Dosen't exist:100128\",\n",
              " \"Dosen't exist:100129\",\n",
              " \"Dosen't exist:100130\",\n",
              " \"Dosen't exist:100131\",\n",
              " \"Dosen't exist:100132\",\n",
              " \"Dosen't exist:100133\",\n",
              " \"Dosen't exist:100134\",\n",
              " \"Dosen't exist:100135\",\n",
              " \"Dosen't exist:100136\",\n",
              " \"Dosen't exist:100137\",\n",
              " \"Dosen't exist:100138\",\n",
              " \"Dosen't exist:100139\",\n",
              " \"Dosen't exist:100140\",\n",
              " \"Dosen't exist:100141\",\n",
              " \"Dosen't exist:100142\",\n",
              " \"Dosen't exist:100143\",\n",
              " \"Dosen't exist:100144\",\n",
              " \"Dosen't exist:100145\",\n",
              " \"Dosen't exist:100146\",\n",
              " \"Dosen't exist:100147\",\n",
              " \"Dosen't exist:100148\",\n",
              " \"Dosen't exist:100149\",\n",
              " \"Dosen't exist:100150\",\n",
              " \"Dosen't exist:100151\",\n",
              " \"Dosen't exist:100152\",\n",
              " \"Dosen't exist:100153\",\n",
              " \"Dosen't exist:100154\",\n",
              " \"Dosen't exist:100155\",\n",
              " \"Dosen't exist:100156\",\n",
              " \"Dosen't exist:100157\",\n",
              " \"Dosen't exist:100158\",\n",
              " \"Dosen't exist:100159\",\n",
              " \"Dosen't exist:100160\",\n",
              " \"Dosen't exist:100161\",\n",
              " \"Dosen't exist:100162\",\n",
              " \"Dosen't exist:100163\",\n",
              " \"Dosen't exist:100164\",\n",
              " \"Dosen't exist:100165\",\n",
              " \"Dosen't exist:100166\",\n",
              " \"Dosen't exist:100167\",\n",
              " \"Dosen't exist:100168\",\n",
              " \"Dosen't exist:100169\",\n",
              " \"Dosen't exist:100170\",\n",
              " \"Dosen't exist:100171\",\n",
              " \"Dosen't exist:100172\",\n",
              " \"Dosen't exist:100173\",\n",
              " \"Dosen't exist:100174\",\n",
              " \"Dosen't exist:100175\",\n",
              " \"Dosen't exist:100176\",\n",
              " \"Dosen't exist:100177\",\n",
              " \"Dosen't exist:100178\",\n",
              " \"Dosen't exist:100179\",\n",
              " [],\n",
              " \"Dosen't exist:100181\",\n",
              " \"Dosen't exist:100182\",\n",
              " [],\n",
              " \"Dosen't exist:100184\",\n",
              " \"Dosen't exist:100185\",\n",
              " \"Dosen't exist:100186\",\n",
              " \"Dosen't exist:100187\",\n",
              " \"Dosen't exist:100188\",\n",
              " \"Dosen't exist:100189\",\n",
              " \"Dosen't exist:100190\",\n",
              " \"Dosen't exist:100191\",\n",
              " \"Dosen't exist:100192\",\n",
              " \"Dosen't exist:100193\",\n",
              " \"Dosen't exist:100194\",\n",
              " [],\n",
              " \"Dosen't exist:100196\",\n",
              " ['100197-97-CREAM'],\n",
              " \"Dosen't exist:100198\",\n",
              " \"Dosen't exist:100199\"]"
            ]
          },
          "metadata": {
            "tags": []
          },
          "execution_count": 82
        }
      ]
    },
    {
      "cell_type": "code",
      "metadata": {
        "id": "eYxJEsSXscYa",
        "colab_type": "code",
        "colab": {}
      },
      "source": [
        ""
      ],
      "execution_count": 0,
      "outputs": []
    },
    {
      "cell_type": "code",
      "metadata": {
        "id": "Kgw6MIJ9scel",
        "colab_type": "code",
        "colab": {}
      },
      "source": [
        ""
      ],
      "execution_count": 0,
      "outputs": []
    },
    {
      "cell_type": "code",
      "metadata": {
        "id": "q9E5MUmPGja9",
        "colab_type": "code",
        "colab": {}
      },
      "source": [
        ""
      ],
      "execution_count": 0,
      "outputs": []
    },
    {
      "cell_type": "code",
      "metadata": {
        "id": "Dy2tTV0aGjjb",
        "colab_type": "code",
        "colab": {}
      },
      "source": [
        ""
      ],
      "execution_count": 0,
      "outputs": []
    },
    {
      "cell_type": "code",
      "metadata": {
        "id": "vlwJJg3ZGjl7",
        "colab_type": "code",
        "colab": {}
      },
      "source": [
        ""
      ],
      "execution_count": 0,
      "outputs": []
    },
    {
      "cell_type": "code",
      "metadata": {
        "id": "EfEUIek7Gjgy",
        "colab_type": "code",
        "colab": {}
      },
      "source": [
        ""
      ],
      "execution_count": 0,
      "outputs": []
    },
    {
      "cell_type": "code",
      "metadata": {
        "id": "mLBIC8vKGjd0",
        "colab_type": "code",
        "colab": {}
      },
      "source": [
        ""
      ],
      "execution_count": 0,
      "outputs": []
    },
    {
      "cell_type": "code",
      "metadata": {
        "id": "z_UbpdUHscch",
        "colab_type": "code",
        "colab": {}
      },
      "source": [
        ""
      ],
      "execution_count": 0,
      "outputs": []
    },
    {
      "cell_type": "code",
      "metadata": {
        "id": "xgRIfEbQoMdg",
        "colab_type": "code",
        "colab": {}
      },
      "source": [
        ""
      ],
      "execution_count": 0,
      "outputs": []
    },
    {
      "cell_type": "code",
      "metadata": {
        "id": "e9zz8wbuscbF",
        "colab_type": "code",
        "colab": {}
      },
      "source": [
        ""
      ],
      "execution_count": 0,
      "outputs": []
    },
    {
      "cell_type": "code",
      "metadata": {
        "id": "gzHr00KvoC1-",
        "colab_type": "code",
        "colab": {}
      },
      "source": [
        ""
      ],
      "execution_count": 0,
      "outputs": []
    },
    {
      "cell_type": "code",
      "metadata": {
        "id": "dQOBNzS38pcX",
        "colab_type": "code",
        "colab": {}
      },
      "source": [
        ""
      ],
      "execution_count": 0,
      "outputs": []
    },
    {
      "cell_type": "code",
      "metadata": {
        "id": "Uze5xGSW-cmt",
        "colab_type": "code",
        "colab": {}
      },
      "source": [
        ""
      ],
      "execution_count": 0,
      "outputs": []
    },
    {
      "cell_type": "code",
      "metadata": {
        "id": "v3Zxu0M2-cpt",
        "colab_type": "code",
        "colab": {}
      },
      "source": [
        ""
      ],
      "execution_count": 0,
      "outputs": []
    },
    {
      "cell_type": "code",
      "metadata": {
        "id": "iiMadRl1EpQ0",
        "colab_type": "code",
        "colab": {}
      },
      "source": [
        ""
      ],
      "execution_count": 0,
      "outputs": []
    },
    {
      "cell_type": "code",
      "metadata": {
        "id": "Z6btwhZuEpO4",
        "colab_type": "code",
        "colab": {}
      },
      "source": [
        ""
      ],
      "execution_count": 0,
      "outputs": []
    },
    {
      "cell_type": "code",
      "metadata": {
        "id": "N3aPQl31EpLW",
        "colab_type": "code",
        "colab": {}
      },
      "source": [
        ""
      ],
      "execution_count": 0,
      "outputs": []
    },
    {
      "cell_type": "code",
      "metadata": {
        "id": "j8o-xs-bEpId",
        "colab_type": "code",
        "colab": {}
      },
      "source": [
        ""
      ],
      "execution_count": 0,
      "outputs": []
    },
    {
      "cell_type": "code",
      "metadata": {
        "id": "71pvY6pj-cs2",
        "colab_type": "code",
        "colab": {}
      },
      "source": [
        ""
      ],
      "execution_count": 0,
      "outputs": []
    },
    {
      "cell_type": "code",
      "metadata": {
        "id": "GXutes7tH2J-",
        "colab_type": "code",
        "colab": {}
      },
      "source": [
        ""
      ],
      "execution_count": 0,
      "outputs": []
    },
    {
      "cell_type": "code",
      "metadata": {
        "id": "TqZTSzdAH233",
        "colab_type": "code",
        "colab": {}
      },
      "source": [
        ""
      ],
      "execution_count": 0,
      "outputs": []
    }
  ]
}